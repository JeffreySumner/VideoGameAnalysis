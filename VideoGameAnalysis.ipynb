{
  "cells": [
    {
      "cell_type": "raw",
      "metadata": {},
      "source": [
        "---\n",
        "title: \"Video Game Demo\"\n",
        "format: html\n",
        "editor: visual\n",
        "---"
      ],
      "id": "390ef962"
    },
    {
      "cell_type": "markdown",
      "metadata": {},
      "source": [
        "We will be examining data from a Tidy Tuesday repository. The repository can be accessed from the following link: https://github.com/rfordatascience/tidytuesday/tree/master/data/2021/2021-03-16.\n"
      ],
      "id": "c8c59cd6"
    },
    {
      "cell_type": "code",
      "metadata": {},
      "source": [
        "library(reticulate)\n",
        "use_virtualenv(\"cse6040\")\n",
        "import pandas as pd\n",
        "\n",
        "# read data from tidy tuesday github\n",
        "video_game_tbl = pd.read_csv('https://raw.githubusercontent.com/rfordatascience/tidytuesday/master/data/2021/2021-03-16/games.csv')"
      ],
      "id": "196f378d",
      "execution_count": null,
      "outputs": []
    }
  ],
  "metadata": {
    "kernelspec": {
      "display_name": "Python 3",
      "language": "python",
      "name": "python3"
    }
  },
  "nbformat": 4,
  "nbformat_minor": 5
}